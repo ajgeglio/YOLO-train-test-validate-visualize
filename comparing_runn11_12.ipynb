{
 "cells": [
  {
   "cell_type": "code",
   "execution_count": null,
   "metadata": {},
   "outputs": [],
   "source": [
    "import pandas as pd\n",
    "import os\n",
    "import glob\n",
    "import datetime\n",
    "from src import general"
   ]
  },
  {
   "cell_type": "code",
   "execution_count": null,
   "metadata": {},
   "outputs": [],
   "source": [
    "## Ratio of Abiss 1 vs Aviss2 in current 2022 labeled dataset\n",
    "img_folder = r\"datasets\\AUV_datasets\\images\\2023\"\n",
    "# df = general().make_img_df_folder(img_folder, ext=\".jpg\")\n",
    "''' \n",
    "image_dim\n",
    "(3000, 4096)    5805\n",
    "(2176, 4096)    2408\n",
    "'''\n",
    "# print(df.image_dim.value_counts())\n",
    "print(len(os.listdir(img_folder)))"
   ]
  },
  {
   "cell_type": "code",
   "execution_count": null,
   "metadata": {},
   "outputs": [],
   "source": [
    "## Ration of Abiss1 and Abiss2 in Run11 Dev Set\n",
    "split_df11trn = pd.read_csv(r\"datasets\\AUV_datasets\\run11\\train_df.csv\")\n",
    "split_df11vld = pd.read_csv(r\"datasets\\AUV_datasets\\run11\\valid_df.csv\")\n",
    "split_df11dev = pd.concat([split_df11trn, split_df11vld])\n",
    "print(split_df11dev.shape)\n",
    "# img_pths11trn = split_df11trn[split_df11trn.year==2020].image_path\n",
    "img_pths11 = split_df11dev.image_path\n",
    "ims = lambda x: general().get_shape_pil(x)\n",
    "df11 = pd.DataFrame(img_pths11, columns=[\"image_path\"])\n",
    "df11[\"image_dim\"] = df11.image_path.apply(ims)\n",
    "''' \n",
    "\n",
    "'''\n",
    "print(df11.image_dim.value_counts())"
   ]
  },
  {
   "cell_type": "code",
   "execution_count": null,
   "metadata": {},
   "outputs": [],
   "source": [
    "## Ration of Abiss1 and Abiss2 in Run12 Dev Set\n",
    "split_df12trn = pd.read_csv(r\"datasets\\AUV_datasets\\run12\\train_df.csv\")\n",
    "split_df12val = pd.read_csv(r\"datasets\\AUV_datasets\\run12\\valid_df.csv\")\n",
    "split_df12dev = pd.concat([split_df12trn, split_df12val])\n",
    "print(split_df12dev.shape)\n",
    "# img_pths12trn = split_df12trn[split_df12trn.year==2020].image_path\n",
    "img_pths12 = split_df12dev.image_path\n",
    "ims = lambda x: general().get_shape_pil(x)\n",
    "df12 = pd.DataFrame(img_pths12, columns=[\"image_path\"])\n",
    "df12[\"image_dim\"] = df12.image_path.apply(ims)\n",
    "''' \n",
    "\n",
    "'''\n",
    "print(df12.image_dim.value_counts())"
   ]
  },
  {
   "cell_type": "code",
   "execution_count": null,
   "metadata": {},
   "outputs": [],
   "source": [
    "## Images in Run 11 not in Run 12\n",
    "diff1112 = set(img_pths11).difference(set(img_pths12))\n",
    "print(len(diff1112))\n",
    "split_df11dev[split_df11dev.image_path.isin(diff1112)].year.value_counts()"
   ]
  },
  {
   "cell_type": "code",
   "execution_count": null,
   "metadata": {},
   "outputs": [],
   "source": [
    "## Images in Run 11 not in Run 12\n",
    "diff1211 = set(img_pths12).difference(set(img_pths11))\n",
    "print(len(diff1211))\n",
    "split_df12dev[split_df12dev.image_path.isin(diff1211)].year.value_counts()"
   ]
  },
  {
   "cell_type": "code",
   "execution_count": null,
   "metadata": {},
   "outputs": [],
   "source": [
    "all_yolo_coord_id = pd.read_csv(r\"Z:\\__Organized_Directories_InProgress\\Fish_annotations_based_on_YOLO\\YOLO_coordinates_all_years_id.csv\")[\"img_id\"]\n",
    "print(len(all_yolo_coord_id))\n",
    "tim = lambda x: os.path.basename(x)\n",
    "tid = lambda x: str(x).split(\".\")[0]\n",
    "diff1112_id = pd.Series(list(diff1112)).apply(tim).apply(tid)\n",
    "print(len(diff1112_id))\n",
    "len(set(all_yolo_coord_id).intersection(set(diff1112_id)))"
   ]
  },
  {
   "cell_type": "code",
   "execution_count": null,
   "metadata": {},
   "outputs": [],
   "source": [
    "all_yolo_coord_id = pd.read_csv(r\"Z:\\__Organized_Directories_InProgress\\Fish_annotations_based_on_YOLO\\YOLO_coordinates_all_years_id.csv\")[\"img_id\"]\n",
    "print(len(all_yolo_coord_id))\n",
    "tim = lambda x: os.path.basename(x)\n",
    "tid = lambda x: str(x).split(\".\")[0]\n",
    "diff1211_id = pd.Series(list(diff1211)).apply(tim).apply(tid)\n",
    "print(len(diff1211_id))\n",
    "len(set(all_yolo_coord_id).intersection(set(diff1211_id)))"
   ]
  },
  {
   "cell_type": "markdown",
   "metadata": {},
   "source": [
    "Ratio of ABS1 vs ABS2 in 2022 Unpacked Images:\n",
    "<!-- # # aluim_2022.collect_id_y\n",
    "# tabs = lambda x: str(x).split(\"_\")[-1]\n",
    "# abs = aluim_2022.collect_id_y.apply(tabs)\n",
    "# abs.value_counts() -->\n",
    "collect_id_y \n",
    "ABS2    146055 /\n",
    "ABS1     89037 /\n",
    "Name: count, dtype: int64"
   ]
  },
  {
   "cell_type": "code",
   "execution_count": null,
   "metadata": {},
   "outputs": [],
   "source": [
    "aluim_2023 = pd.read_csv(r\"Z:\\Database\\02__MetadataCombined\\all_unpacked_images_metadata_2023.csv\", index_col=0, low_memory=False)\n",
    "aluim_2023.shape"
   ]
  },
  {
   "cell_type": "code",
   "execution_count": null,
   "metadata": {},
   "outputs": [],
   "source": [
    "df.datetime.hist()"
   ]
  },
  {
   "cell_type": "code",
   "execution_count": null,
   "metadata": {},
   "outputs": [],
   "source": [
    "import pandas as pd\n",
    "import shutil\n",
    "\n",
    "\n",
    "\n",
    "\n",
    "all_labels = pd.read_csv(r\"Z:\\Proj_Yolo\\dataset\\All_Goby_imgs_Lbls.csv\")\n",
    "addl_spec = all_labels[all_labels.addl_spec==\"y\"]\n",
    "# print(addl_spec.year.value_counts())\n",
    "# for img, lbl in zip(addl_spec[\"image_path\"], addl_spec[\"label_path\"]):\n",
    "#     try:\n",
    "#         n_fish = pd.read_csv(lbl , delimiter=\" \", header=None).shape[0]\n",
    "#     except:\n",
    "#         continue\n",
    "#     if n_fish > 10:\n",
    "#         shutil.copy(img, r\"C:\\Users\\ageglio\\ageglio-1\\gobyfinder_yolov8\\datasets\\addl_spec_test\\images\")\n",
    "#         shutil.copy(lbl, r\"C:\\Users\\ageglio\\ageglio-1\\gobyfinder_yolov8\\datasets\\addl_spec_test\\labels\")"
   ]
  },
  {
   "cell_type": "code",
   "execution_count": null,
   "metadata": {},
   "outputs": [],
   "source": [
    "img_pth = []\n",
    "years = []"
   ]
  },
  {
   "cell_type": "code",
   "execution_count": null,
   "metadata": {},
   "outputs": [],
   "source": [
    "run_test_df = pd.read_csv(r\"C:\\Users\\ageglio\\ageglio-1\\gobyfinder_yolov8\\datasets\\AUV_datasets\\run11\\test_df.csv\")\n",
    "run12_test_df = pd.read_csv(r\"C:\\Users\\ageglio\\ageglio-1\\gobyfinder_yolov8\\datasets\\AUV_datasets\\run12\\test_df.csv\")\n",
    "\n",
    "for img, lbl, yr in zip(run12_test_df[\"image_path\"], run12_test_df[\"label_path\"], run12_test_df[\"year\"]):\n",
    "    n_fish = pd.read_csv(lbl , delimiter=\" \", header=None).shape[0]\n",
    "    if n_fish > 15:\n",
    "        img_pth.append(img)\n",
    "        years.append(yr)\n",
    "        shutil.copy(img, r\"C:\\Users\\ageglio\\ageglio-1\\gobyfinder_yolov8\\datasets\\AUV_datasets\\challenge_test\\images\")\n",
    "        shutil.copy(lbl, r\"C:\\Users\\ageglio\\ageglio-1\\gobyfinder_yolov8\\datasets\\AUV_datasets\\challenge_test\\labels\")\n",
    "\n",
    "\n",
    "\n",
    "for img, lbl, yr in zip(run_test_df[\"image_path\"], run_test_df[\"label_path\"], run_test_df[\"year\"]):\n",
    "    try:\n",
    "        n_fish = pd.read_csv(lbl , delimiter=\" \", header=None).shape[0]\n",
    "    except: continue\n",
    "    if n_fish > 15:\n",
    "        img_pth.append(img)\n",
    "        years.append(yr)\n",
    "        shutil.copy(img, r\"C:\\Users\\ageglio\\ageglio-1\\gobyfinder_yolov8\\datasets\\AUV_datasets\\challenge_test\\images\")\n",
    "        shutil.copy(lbl, r\"C:\\Users\\ageglio\\ageglio-1\\gobyfinder_yolov8\\datasets\\AUV_datasets\\challenge_test\\labels\")"
   ]
  },
  {
   "cell_type": "code",
   "execution_count": null,
   "metadata": {},
   "outputs": [],
   "source": [
    "len(img_pth)"
   ]
  },
  {
   "cell_type": "code",
   "execution_count": null,
   "metadata": {},
   "outputs": [],
   "source": [
    "import numpy as np\n",
    "df = pd.DataFrame(np.c_[img_pth, years], columns=[\"image_path\", \"year\"])\n",
    "df['filename'] = df.image_path.apply(lambda x: os.path.basename(x))\n",
    "df.drop_duplicates(subset=\"filename\").year.value_counts()"
   ]
  }
 ],
 "metadata": {
  "kernelspec": {
   "display_name": "img_processing",
   "language": "python",
   "name": "python3"
  },
  "language_info": {
   "codemirror_mode": {
    "name": "ipython",
    "version": 3
   },
   "file_extension": ".py",
   "mimetype": "text/x-python",
   "name": "python",
   "nbconvert_exporter": "python",
   "pygments_lexer": "ipython3",
   "version": "3.11.4"
  }
 },
 "nbformat": 4,
 "nbformat_minor": 2
}
