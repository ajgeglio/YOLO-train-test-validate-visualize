{
 "cells": [
  {
   "cell_type": "markdown",
   "metadata": {},
   "source": [
    "# Creating COCO JSON "
   ]
  },
  {
   "cell_type": "code",
   "execution_count": null,
   "metadata": {},
   "outputs": [],
   "source": [
    "from src import general\n",
    "import pandas as pd\n",
    "import os"
   ]
  },
  {
   "cell_type": "code",
   "execution_count": 29,
   "metadata": {},
   "outputs": [],
   "source": [
    "# starting with predict df output\n",
    "pred_df_pth = r\"test_runs\\detect\\label_training_results\\label_training_predictions.csv\"\n",
    "save_json_pth = r\"test_runs\\detect\\label_training_results\\label_training_predictions.json\"\n",
    "general.pred_df_to_coco_json(pred_df_pth, save_json_pth)"
   ]
  },
  {
   "cell_type": "markdown",
   "metadata": {},
   "source": [
    "## Goby Avoidance image inference"
   ]
  },
  {
   "cell_type": "code",
   "execution_count": 39,
   "metadata": {},
   "outputs": [],
   "source": [
    "\n",
    "dans_images = pd.read_csv(\"Tests/DM_Inference/InferenceImages.csv\")['Image']\n",
    "all_imgs_pths = general.list_files(\"Z:\\HeadersCombined\\Bag_Unpack_files-GobyAvoidance\",\".png\")\n",
    "all_imgs_pths_series = pd.Series(all_imgs_pths)\n",
    "pth = lambda p : os.path.basename(p)\n",
    "all_imgs = pd.Series(list(map(pth, all_imgs_pths)))\n",
    "dans_imgs_pths_idx = all_imgs[all_imgs.isin(dans_images)].index\n",
    "dans_imgs_pths = all_imgs_pths_series[all_imgs_pths_series.index.isin(dans_imgs_pths_idx)]\n",
    "dans_imgs_pths.to_csv(\"Tests\\DM_Inference\\GobyAvoidanceImages.csv\")"
   ]
  }
 ],
 "metadata": {
  "kernelspec": {
   "display_name": "Yolov8",
   "language": "python",
   "name": "python3"
  },
  "language_info": {
   "codemirror_mode": {
    "name": "ipython",
    "version": 3
   },
   "file_extension": ".py",
   "mimetype": "text/x-python",
   "name": "python",
   "nbconvert_exporter": "python",
   "pygments_lexer": "ipython3",
   "version": "3.11.6"
  }
 },
 "nbformat": 4,
 "nbformat_minor": 2
}
