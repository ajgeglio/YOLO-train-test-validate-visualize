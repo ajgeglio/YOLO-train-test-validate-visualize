{
 "cells": [
  {
   "cell_type": "code",
   "execution_count": null,
   "metadata": {},
   "outputs": [],
   "source": [
    "import os\n",
    "import pandas as pd\n",
    "import numpy as np\n",
    "import glob\n",
    "from src import generate_annot_imgs"
   ]
  },
  {
   "cell_type": "code",
   "execution_count": null,
   "metadata": {},
   "outputs": [],
   "source": [
    "def seconds_to_hours_minutes(seconds):\n",
    "    hours = seconds // 3600\n",
    "    minutes = (seconds % 3600) // 60\n",
    "    return f\"{hours} hours, {minutes} minutes\"\n",
    "\n",
    "# Example usage\n",
    "total_seconds = (54*60+50+3*60+59)*199\n",
    "total_seconds = (46*60+31+4*60)*129\n",
    "total_seconds = (1*60*60+48*60+2*60+51)*74\n",
    "result = seconds_to_hours_minutes(total_seconds)\n",
    "print(result)"
   ]
  },
  {
   "cell_type": "code",
   "execution_count": null,
   "metadata": {},
   "outputs": [],
   "source": [
    "# generating OBB boxes for MERR coordinates\n",
    "# merr_filepath = r\"Z:\\__Organized_Directories_InProgress\\Fish_annotations_based_on_YOLO\\_MERR_coordinates_all_years_id.csv\"\n",
    "# merr_database = pd.read_csv(merr_filepath, index_col=0)\n",
    "MER_cord = pd.read_csv(r\"Z:\\__Organized_Directories_InProgress\\Fish_annotations_based_on_YOLO\\_MERR_coordinates_all_years.csv\", low_memory=False)\n",
    "print(MER_cord.shape) # (231609, 17) - without 2019 \n",
    "MER_cord = MER_cord.iloc[:,:-2]"
   ]
  },
  {
   "cell_type": "code",
   "execution_count": null,
   "metadata": {},
   "outputs": [],
   "source": [
    "# assert we have the same fish id\n",
    "n = MER_cord.groupby(by=\"name\").cumcount()\n",
    "nfpi = n.apply(lambda x: x+1)\n",
    "tid = lambda x: str(x).split(\".\")[0]\n",
    "MER_img_id = MER_cord.name.apply(tid)\n",
    "MER_cord['fish_id'] = MER_img_id.astype(str) +\"_\"+ n.astype(str)\n",
    "MER_cord['n_fish'] = nfpi\n",
    "\n",
    "qaqc_paths = [r\"Z:\\Proj_Yolo\\gobyfinder_yolov8\\datasets\\AUV_datasets\\MER\\2020_MERR_ratiohigherthan6.csv\",\n",
    "              r\"Z:\\Proj_Yolo\\gobyfinder_yolov8\\datasets\\AUV_datasets\\MER\\2021_MERR_ratiohigherthan6.csv\",\n",
    "              r\"Z:\\Proj_Yolo\\gobyfinder_yolov8\\datasets\\AUV_datasets\\MER\\2022_MERR_ratiohigherthan6.csv\",\n",
    "              r\"Z:\\Proj_Yolo\\gobyfinder_yolov8\\datasets\\AUV_datasets\\MER\\2023_MERR_ratiohigherthan6.csv\"]\n",
    "qaqc_dfs = [pd.read_csv(path) for path in qaqc_paths]\n",
    "qaqc_df = pd.concat(qaqc_dfs).rename(columns={\"Unnamed: 0\": \"path\"})\n",
    "# # MER_cord.to_csv(r\"Z:\\__Organized_Directories_InProgress\\Fish_annotations_based_on_YOLO\\_MERR_coordinates_all_years_id.csv\")\n",
    "fid = lambda x: os.path.basename(x).split(\".\")[0]\n",
    "qaqc_df[\"fish_id\"] = qaqc_df.path.apply(fid)\n",
    "MER_cord = pd.merge(MER_cord, qaqc_df[[\"fish_type\", \"fish_id\"]], on=\"fish_id\", how=\"left\")\n",
    "MER_cord[\"image_id\"] = MER_cord.name.apply(lambda x: x.split(\".\")[0])\n",
    "print(MER_cord.shape)\n",
    "MER_cord.head(2)"
   ]
  },
  {
   "cell_type": "code",
   "execution_count": null,
   "metadata": {},
   "outputs": [],
   "source": [
    "MER_cord.fish_type.value_counts()"
   ]
  },
  {
   "cell_type": "code",
   "execution_count": null,
   "metadata": {},
   "outputs": [],
   "source": [
    "## clean up MER\n",
    "MER_cord.fish_type = MER_cord.fish_type.replace(\"goby goby\", \"goby\")\n",
    "MER_cord.fish_type = MER_cord.fish_type.replace(\"alewife alewife\", \"alewife\")\n",
    "MER_cord.fish_type = MER_cord.fish_type.replace(\"goby goby goby\", \"goby\")\n",
    "MER_cord.fish_type = MER_cord.fish_type.replace(\"notfish goby\", \"notfish\")\n",
    "MER_cord.fish_type = MER_cord.fish_type.replace(\"goby notfish\", \"notfish\")\n",
    "MER_cord.fish_type = MER_cord.fish_type.replace(\"goby alewife\", \"goby\")\n",
    "MER_cord.fish_type = MER_cord.fish_type.replace(\"goby alewife alewife\", \"alewife\")\n",
    "MER_cord.fish_type = MER_cord.fish_type.fillna(\"goby\")\n",
    "cls_dict = {\"goby\": 0, \"alewife\": 1, \"notfish\": 2, \"other\": 3}\n",
    "MER_cord[\"cls\"] = MER_cord.fish_type.apply(lambda x: cls_dict[x])\n",
    "MER_filtered = MER_cord[(MER_cord.fish_type == \"goby\") | (MER_cord.fish_type == \"alewife\")]\n",
    "MER_filtered = MER_filtered.copy()\n",
    "''' \n",
    "cls\n",
    "0    230919\n",
    "3       423\n",
    "1       219\n",
    "4        48\n",
    "Name: count, dtype: int64\n",
    "'''\n",
    "print(MER_cord.cls.value_counts())\n",
    "\n",
    "# MER_cord.to_csv(r\"Z:\\__Organized_Directories_InProgress\\Fish_annotations_based_on_YOLO\\_MERR_coordinates_all_years_id_fishtype_unfiltered.csv\")\n",
    "print(MER_cord.shape)\n",
    "MER_cord.head(3)"
   ]
  },
  {
   "cell_type": "code",
   "execution_count": null,
   "metadata": {},
   "outputs": [],
   "source": [
    "def from_merr_to_YOLO_OBB(merr_df, output_folder):\n",
    "    timh = lambda x: int(x.split(\"x\")[0].rstrip())\n",
    "    timw = lambda x: int(x.split(\"x\")[1].rstrip())\n",
    "    for imid in merr_df.image_id.unique():\n",
    "        lbl_fn = imid +\".txt\"\n",
    "        df = merr_df[merr_df.image_id == imid]\n",
    "        yr = str(df.year.unique()[0])\n",
    "        cls = df.cls\n",
    "        lbl_pth = os.path.join(output_folder,yr, lbl_fn)\n",
    "        imh = df.img_size.apply(timh).unique()[0]\n",
    "        imw = df.img_size.apply(timw).unique()[0]\n",
    "        values = df[[\"BLX\", \"BLY\", \"TLX\", \"TLY\", \"TRX\", \"TRY\", \"BRX\", \"BRY\"]]\n",
    "        # convert to proportional\n",
    "        values.iloc[:,[0,2,4,6]] = values.iloc[:,[0,2,4,6]]/imw\n",
    "        values.iloc[:, [1,3,5,7]] = values.iloc[:, [1,3,5,7]]/imh\n",
    "        # insert class id\n",
    "        values.insert(0, \"col0\",cls)\n",
    "        values.to_csv(lbl_pth, header=False, index=False, sep=\" \")\n",
    "output_folder = r\"datasets\\AUV_datasets\\MER\"\n",
    "from_merr_to_YOLO_OBB(merr_df = MER_cord, output_folder = output_folder)"
   ]
  },
  {
   "cell_type": "markdown",
   "metadata": {},
   "source": [
    "### dixplay MER boxes"
   ]
  },
  {
   "cell_type": "code",
   "execution_count": null,
   "metadata": {},
   "outputs": [],
   "source": [
    "img_pths = glob.glob(r\"C:\\Users\\ageglio\\ageglio-1\\gobyfinder_yolov8\\datasets\\AUV_datasets\\images\\2021\\*\")\n",
    "mlbl_pths = glob.glob(r\"C:\\Users\\ageglio\\ageglio-1\\gobyfinder_yolov8\\datasets\\AUV_datasets\\MER\\2021\\*\")\n",
    "alweife_imgs = MER_filtered[MER_filtered.fish_type == \"alewife\"].name.apply(lambda x: str(x).split(\".\")[0])\n",
    "# idx = 50\n",
    "lst = ['CI_1629400773_167', 'image_raw_04491933', 'image_raw_81116102', 'image_raw_81345213']\n",
    "\n",
    "# name = str(alweife_imgs).split(\".\")[0]\n",
    "# name = alweife_imgs[alweife_imgs.str.contains(\"CI_1629400773_167\")].item()\n",
    "name = \"CI_1624914813_174\"\n",
    "simg, slbl = pd.Series(img_pths), pd.Series(mlbl_pths)\n",
    "img, mlbl = simg[simg.str.contains(name)].item(), slbl[slbl.str.contains(name)].item()\n",
    "generate_annot_imgs.disp_merr_bbox(img, mlbl)"
   ]
  },
  {
   "cell_type": "markdown",
   "metadata": {},
   "source": [
    "## Checking label database with kailee's data"
   ]
  },
  {
   "cell_type": "code",
   "execution_count": null,
   "metadata": {},
   "outputs": [],
   "source": [
    "# new_lbls_csv_pth = r\"test_runs\\detect\\Run14+-alewife_annot_imgs_2023\\Run14+-alewife_annot_imgs_2023_Labels.csv\"\n",
    "new_assmt_csv_pth = r\"C:\\Users\\ageglio\\Downloads\\2023_assessment_confirmedfish_polynomialfit_corrected.csv\"\n",
    "lbl_database = r\"Z:\\__Organized_Directories_InProgress\\Fish_annotations_based_on_YOLO\\_MERR_coordinates_all_years_id_fishtype_unfiltered.csv\"\n",
    "df_a = pd.read_csv(new_assmt_csv_pth)\n",
    "print(df_a.shape)\n",
    "df_a = df_a[df_a.Fish_ID != 0]\n",
    "print(df_a.shape)\n",
    "df_id = pd.read_csv(lbl_database, index_col=0, low_memory=False)\n",
    "print(df_id[df_id.year == 2023].shape)\n",
    "df_id2 = df_id[df_id.image_id.isin(df_a.image_id)]\n",
    "print(df_id2.shape)"
   ]
  },
  {
   "cell_type": "code",
   "execution_count": null,
   "metadata": {},
   "outputs": [],
   "source": [
    "from shapely.geometry import Polygon\n",
    "def calculate_iou_obb(bbox1, bbox2):\n",
    "    \"\"\"Calculates the IoU of two oriented bounding boxes.\n",
    "    Args:\n",
    "        bbox1 (list): A list of 8 coordinates representing the 4 corners of the first OBB.\n",
    "        bbox2 (list): A list of 8 coordinates representing the 4 corners of the second OBB.\n",
    "    Returns:\n",
    "        float: The IoU value between the two OBBs.\n",
    "    \"\"\"\n",
    "    # Create Shapely polygons from the bounding box coordinates\n",
    "    poly1 = Polygon(bbox1)\n",
    "    poly2 = Polygon(bbox2)\n",
    "    # Calculate the intersection and union areas\n",
    "    intersection_area = poly1.intersection(poly2).area\n",
    "    union_area = poly1.area + poly2.area - intersection_area\n",
    "    # Calculate and return the IoU\n",
    "    return intersection_area / union_area\n",
    "# Example usage\n",
    "bbox1 = [(0, 0), (2, 0), (2, 1), (0, 1)]  # Axis-aligned for simplicity\n",
    "bbox2 = [(1, 0.5), (3, 0.5), (3, 1.5), (1, 1.5)]\n",
    "iou = calculate_iou_obb(bbox1, bbox2)\n",
    "print(iou) "
   ]
  },
  {
   "cell_type": "code",
   "execution_count": null,
   "metadata": {},
   "outputs": [],
   "source": [
    "import cv2\n",
    "import numpy as np\n",
    "def get_rotation_from_obb(corners):\n",
    "    \"\"\"\n",
    "    Calculates the rotation angle of an oriented bounding box from its corners.\n",
    "\n",
    "    Args:\n",
    "        corners (list): List of 4 corner points of the bounding box in the format [[x1, y1], [x2, y2], [x3, y3], [x4, y4]].\n",
    "\n",
    "    Returns:\n",
    "        float: Rotation angle in degrees converted to radians.\n",
    "    \"\"\"\n",
    "    # Convert corners to numpy array\n",
    "    corners = np.array(corners, dtype=np.float32)\n",
    "    # Calculate minimum area rectangle\n",
    "    rect = cv2.minAreaRect(corners)\n",
    "    # Return the rotation angle in deg, then convert to radians\n",
    "    print(rect[2])\n",
    "    return rect[2] * (np.pi/180)\n",
    "# Example usage\n",
    "corners = [(1, 0.5), (3, 0.5), (3, 1.5), (1, 1.5)]\n",
    "angle = get_rotation_from_obb(corners)\n",
    "print(\"Rotation angle:\", angle)"
   ]
  },
  {
   "cell_type": "code",
   "execution_count": null,
   "metadata": {},
   "outputs": [],
   "source": [
    "year = \"2023\"\n",
    "dfl = pd.read_csv(f\"test_runs\\\\detect\\\\Run14+-alewife_annot_imgs_{year}\\\\Run14+-alewife_annot_imgs_{year}_Labels.csv\", index_col=0)\n",
    "dfp = pd.read_csv(f\"test_runs\\\\detect\\\\Run14+-alewife_annot_imgs_{year}\\\\Run14+-alewife_annot_imgs_{year}_predictions.csv\", index_col=0)"
   ]
  },
  {
   "cell_type": "code",
   "execution_count": null,
   "metadata": {},
   "outputs": [],
   "source": [
    "imp = dfp.image_id\n",
    "dflq = dfp[dfp.image_id.isin(imp)]\n",
    "dflq.names.value_counts()"
   ]
  }
 ],
 "metadata": {
  "kernelspec": {
   "display_name": "img_processing",
   "language": "python",
   "name": "python3"
  },
  "language_info": {
   "codemirror_mode": {
    "name": "ipython",
    "version": 3
   },
   "file_extension": ".py",
   "mimetype": "text/x-python",
   "name": "python",
   "nbconvert_exporter": "python",
   "pygments_lexer": "ipython3",
   "version": "3.11.4"
  }
 },
 "nbformat": 4,
 "nbformat_minor": 2
}
