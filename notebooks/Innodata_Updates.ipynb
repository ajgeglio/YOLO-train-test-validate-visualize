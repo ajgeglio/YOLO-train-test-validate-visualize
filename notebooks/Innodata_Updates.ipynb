{
 "cells": [
  {
   "cell_type": "code",
   "execution_count": 1,
   "id": "746fb750",
   "metadata": {},
   "outputs": [],
   "source": [
    "import glob\n",
    "import pandas as pd\n",
    "import os\n",
    "import sys\n",
    "sys.path.append(os.path.abspath(os.path.join(os.getcwd(), os.pardir, \"src\")))\n",
    "from utils import Utils\n",
    "from reports import Reports\n",
    "import matplotlib.pyplot as plt\n",
    "from overlays import Overlays\n",
    "from utils import Utils\n",
    "import numpy as np"
   ]
  },
  {
   "cell_type": "code",
   "execution_count": 2,
   "id": "5877f83b",
   "metadata": {},
   "outputs": [
    {
     "name": "stdout",
     "output_type": "stream",
     "text": [
      "0\n"
     ]
    }
   ],
   "source": [
    "all_tiled_image_paths, all_tiled_label_paths = glob.glob(r\"D:\\datasets\\tiled\\images\\*.png\"), glob.glob(r\"D:\\datasets\\tiled\\labels\\*.txt\")\n",
    "print(len(all_tiled_image_paths))\n",
    "assert len(all_tiled_image_paths) == len(all_tiled_label_paths), \"Mismatch between image and label counts.\""
   ]
  },
  {
   "cell_type": "code",
   "execution_count": 3,
   "id": "42a48d06",
   "metadata": {},
   "outputs": [
    {
     "name": "stdout",
     "output_type": "stream",
     "text": [
      "usable Abiss1 images: 19299\n",
      "usable Abiss2 images: 14225\n"
     ]
    }
   ],
   "source": [
    "# filter for images with n_fish >= n images\n",
    "df_run12_meta_nf = pd.read_csv(r\"Z:\\__Organized_Directories_InProgress\\GobyFinderDatasets\\AUV_datasets\\runs\\run12\\run12_metadata.csv\", index_col=0, low_memory=False)\n",
    "df_run12_meta_nf_usable = df_run12_meta_nf[df_run12_meta_nf.Usability == \"Usable\"]\n",
    "meta_df = df_run12_meta_nf_usable\n",
    "df_abs2_meta_nf = meta_df[(meta_df.n_fish >= 0)  & (meta_df.imh > 2176)]\n",
    "df_abs1_meta_nf = meta_df[(meta_df.n_fish >= 0)  & (meta_df.imh == 2176)]\n",
    "abiss2_len = len(df_abs2_meta_nf) \n",
    "abiss1_len = len(df_abs1_meta_nf)  \n",
    "# export_paths(df_abs1_meta_nf[df_abs1_meta_nf.split == \"test\"], run13_folder, subfolder=\"abiss1_test\")\n",
    "print(\"usable Abiss1 images:\", abiss1_len)\n",
    "print(\"usable Abiss2 images:\", abiss2_len) #usable Abiss2 images: 14225\n",
    "few_fish_df = df_abs2_meta_nf[(df_abs2_meta_nf.n_fish < 2)]\n",
    "new_path = r\"Z:\\__Organized_Directories_InProgress\\GobyFinderDatasets\\AUV_datasets\\one_fish\\images\"\n",
    "output_dir = r\"Z:\\__Organized_Directories_InProgress\\GobyFinderDatasets\\AUV_datasets\\one_fish\\overlays\"\n",
    "# Overlays.plot_label_overlays(few_fish_df.image_path, few_fish_df.label_path, output_dir, overwrite=False)"
   ]
  },
  {
   "cell_type": "code",
   "execution_count": 4,
   "id": "1834eedc",
   "metadata": {},
   "outputs": [
    {
     "name": "stdout",
     "output_type": "stream",
     "text": [
      "Total batches created: 69\n"
     ]
    }
   ],
   "source": [
    "all_images_df = df_abs2_meta_nf[(df_abs2_meta_nf.n_fish >= 2)]\n",
    "# Define constants for the batching process\n",
    "BATCH_SIZE = 100\n",
    "# Placeholder for your run folder variable\n",
    "innodata_update = r\"Z:\\__AdvancedTechnologyBackup\\04_ProjectData\\Innodata_2025\\Goby\"\n",
    "\n",
    "# Step 1: Get the initial sample\n",
    "initial_relabel = all_images_df.sample(n=BATCH_SIZE, random_state=123) # Use BATCH_SIZE here\n",
    "\n",
    "# Step 2: Export the initial sample batch\n",
    "name_initial = \"2025_goby_relabel_initial_sample\"\n",
    "Utils.export_paths(initial_relabel.image_path, initial_relabel.label_path, innodata_update, os.path.join(name_initial, \"full\"))\n",
    "tiled_images, tiled_labels  = Utils.list_tiled_set(initial_relabel.Filename.values, all_tiled_image_paths, all_tiled_label_paths)\n",
    "Utils.export_paths(tiled_images, tiled_labels, innodata_update, os.path.join(name_initial, \"tiled\"))\n",
    "# Step 3: Create a DataFrame with the remaining images\n",
    "# We do this by getting the indices of the initial sample and\n",
    "# selecting all rows from the original DataFrame whose indices are NOT in that sample.\n",
    "# Using .copy() is good practice here to avoid SettingWithCopyWarning later\n",
    "remaining_images_df = all_images_df.drop(initial_relabel.index).copy()\n",
    "\n",
    "# Now, we proceed with the rest of the batches on the remaining images\n",
    "# Use a while loop because the DataFrame size changes\n",
    "batch_number = 1\n",
    "while len(remaining_images_df) > 0:\n",
    "    # Determine the size of the current batch\n",
    "    # This handles the case where the remaining images are less than BATCH_SIZE\n",
    "    current_batch_size = min(BATCH_SIZE, len(remaining_images_df))\n",
    "\n",
    "    # Get a random sample of the required size from the remaining data\n",
    "    # Do NOT set random_state here if you want different random samples each time\n",
    "    subset = remaining_images_df.sample(n=current_batch_size)\n",
    "\n",
    "    # Export the current random sample batch\n",
    "    name = f\"2025_goby_relabel_batch_{batch_number:02d}\"\n",
    "    Utils.export_paths(subset.image_path, subset.label_path, innodata_update, os.path.join(name, \"full\"))\n",
    "    tiled_images, tiled_labels  = Utils.list_tiled_set(subset.Filename.values, all_tiled_image_paths, all_tiled_label_paths)\n",
    "    Utils.export_paths(tiled_images, tiled_labels, innodata_update, os.path.join(name, \"tiled\"))\n",
    "\n",
    "    # Step 4: CRITICAL - Remove the sampled subset from the remaining pool\n",
    "    # The .drop() function ensures the next iteration samples from a non-redundant pool.\n",
    "    remaining_images_df.drop(subset.index, inplace=True)\n",
    "    \n",
    "    # Increment the batch counter\n",
    "    batch_number += 1\n",
    "\n",
    "print(f\"Total batches created: {batch_number - 1}\")"
   ]
  },
  {
   "cell_type": "code",
   "execution_count": 33,
   "id": "531f85b1",
   "metadata": {},
   "outputs": [
    {
     "name": "stdout",
     "output_type": "stream",
     "text": [
      "sample 900 / 900  \r"
     ]
    }
   ],
   "source": [
    "# Copy Batches\n",
    "batch = \"batch_01\"  # Change this to the desired batch number\n",
    "path = f\"D:\\\\ageglio-1\\\\gobyfinder_yolov8\\\\datasets\\\\AUV_datasets\\\\innodata_updates\\\\2025_goby_relabel_{batch}\\\\tiled\"\n",
    "images, labels = Utils.read_list_txt(os.path.join(path, \"images.txt\")), Utils.read_list_txt(os.path.join(path, \"labels.txt\"))\n",
    "img_folder, lbl_folder = os.path.join(path, \"images\"), os.path.join(path, \"labels\")\n",
    "Utils.copy_files_lst(images, img_folder)\n",
    "Utils.copy_files_lst(labels, lbl_folder)"
   ]
  },
  {
   "cell_type": "code",
   "execution_count": null,
   "id": "0c81232b",
   "metadata": {},
   "outputs": [],
   "source": [
    "curve_path_0n = r\"..\\output\\validation\\detect\\test_sept_1fish\\test_run13_1n_curves.csv\"\n",
    "support_0n = df_abs2_meta_nf[(df_abs2_meta_nf.n_fish < 2)].shape[0]\n",
    "curve_path_2n = r\"..\\output\\validation\\detect\\test_sept_2-3fish\\test_run13_2-3n_curves.csv\"\n",
    "support_2n = df_abs2_meta_nf[(df_abs2_meta_nf.n_fish >= 2) & (df_abs2_meta_nf.n_fish <= 3)].shape[0]\n",
    "curve_path_4n = r\"..\\output\\validation\\detect\\test_sept_4fish+\\test_run13_4n+_curves.csv\"\n",
    "support_4n = df_abs2_meta_nf[(df_abs2_meta_nf.n_fish >= 4)].shape[0]\n",
    "curve_path_abs2 = r\"..\\output\\validation\\detect\\test_sept_abiss2\\test_run13_abiss2_curves.csv\"\n",
    "support_abs2 = df_abs2_meta_nf.shape[0]\n",
    "curve_path_abs1 = r\"..\\output\\validation\\detect\\test_sept_abiss1\\test_run13_abiss1_curves.csv\"\n",
    "support_abs1 = df_abs1_meta_nf.shape[0]\n",
    "df_0n, fmax_0n, cmax_0n, c_eq_0n, pr_eq_0n = Reports.get_metrics(curve_path_0n) \n",
    "df_2n, fmax_2n, cmax_2n, c_eq_2n, pr_eq_2n = Reports.get_metrics(curve_path_2n) \n",
    "df_4n, fmax_4n, cmax_4n, c_eq_4n, pr_eq_4n = Reports.get_metrics(curve_path_4n) \n",
    "dfabs2, fmaxabs2, cmaxabs2, c_eqabs2, pr_eqabs2 = Reports.get_metrics(curve_path_abs2) \n",
    "dfabs1, fmaxabs1, cmaxabs1, c_eqabs1, pr_eqabs1 = Reports.get_metrics(curve_path_abs1) "
   ]
  },
  {
   "cell_type": "code",
   "execution_count": null,
   "id": "0724d8a1",
   "metadata": {},
   "outputs": [],
   "source": [
    "plt.plot(df_0n.precision, df_0n.recall, label=f\"ABISS2 only 1 fish, {support_0n}, {support_0n/abiss2_tst*100:0.1f}%\", color=\"purple\")\n",
    "plt.plot(df_2n.precision, df_2n.recall, label=f\"ABISS2 At 2-3 fish, {support_2n}, {support_2n/abiss2_tst*100:0.1f}%\", color=\"green\")\n",
    "plt.plot(df_4n.precision, df_4n.recall, label=f\"ABISS2 At least 4 fish, {support_4n}, {support_4n/abiss2_tst*100:0.1f}%\", color=\"orange\")\n",
    "plt.plot(dfabs1.precision, dfabs1.recall, label=f\"ABISS1 Test images, {abiss1_tst}\", color=\"red\")\n",
    "plt.xlabel('Recall') \n",
    "plt.ylabel('Precision') \n",
    "plt.title('Goby count bins Precision-Recall Curve')\n",
    "plt.legend() # 1461"
   ]
  },
  {
   "cell_type": "code",
   "execution_count": null,
   "id": "8f29f7f9",
   "metadata": {},
   "outputs": [],
   "source": [
    "json_path = r\"..\\datasets\\AUV_datasets\\run13\\initial_relabel\\labels.json\"\n",
    "image_path_txt = r\"..\\datasets\\AUV_datasets\\run13\\initial_relabel\\images.txt\"\n",
    "image_lst = pd.read_csv(image_path_txt, header=None)\n",
    "image_path = image_lst.iloc[31].values[0]\n",
    "Overlays.plot_coco_boxes(image_path, json_path)"
   ]
  },
  {
   "cell_type": "code",
   "execution_count": null,
   "id": "aa8decc2",
   "metadata": {},
   "outputs": [],
   "source": [
    "plt.plot(dfabs2.precision, dfabs2.recall, label=f\"ABISS2 Test images, {support_abs2}\")\n",
    "plt.plot(dfabs1.precision, dfabs1.recall, label=f\"ABISS1 Test images, {support_abs1}\", color=\"red\")\n",
    "plt.xlabel('Recall') \n",
    "plt.ylabel('Precision') \n",
    "plt.title('ABISS1 vs ABISS2 Precision-Recall Curve')\n",
    "plt.legend()"
   ]
  },
  {
   "cell_type": "code",
   "execution_count": null,
   "id": "317d339f",
   "metadata": {},
   "outputs": [],
   "source": [
    "sample = df_run12_meta_nf[df_run12_meta_nf.collect_id == \"20200824_001_Iver3069_ABS1\"]\n",
    "times = sample.Time_s/1.5982e9 # Convert to milliseconds for better readability\n",
    "types = sample.split\n",
    "b = len(times)\n",
    "\n",
    "plt.figure(figsize=(15, 4))\n",
    "plt.hist(times[types == \"train\"], bins=b, label='Train', alpha=0.5)\n",
    "plt.hist(times[types == \"test\"], bins=b, label='Test', alpha=0.5)\n",
    "plt.hist(times[types == \"validation\"], bins=b, label='Val', alpha=0.5)\n",
    "plt.xlabel('Image Index')\n",
    "plt.ticklabel_format(style='plain', axis='x')\n",
    "plt.show()\n"
   ]
  }
 ],
 "metadata": {
  "kernelspec": {
   "display_name": "Yolov8v2",
   "language": "python",
   "name": "python3"
  },
  "language_info": {
   "codemirror_mode": {
    "name": "ipython",
    "version": 3
   },
   "file_extension": ".py",
   "mimetype": "text/x-python",
   "name": "python",
   "nbconvert_exporter": "python",
   "pygments_lexer": "ipython3",
   "version": "3.12.8"
  }
 },
 "nbformat": 4,
 "nbformat_minor": 5
}
