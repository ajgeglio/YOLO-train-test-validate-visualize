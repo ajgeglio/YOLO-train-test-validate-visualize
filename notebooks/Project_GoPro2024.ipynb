{
 "cells": [
  {
   "cell_type": "code",
   "execution_count": 1,
   "id": "f0bcaf27",
   "metadata": {},
   "outputs": [],
   "source": [
    "import glob, os, shutil, sys\n",
    "import pandas as pd"
   ]
  },
  {
   "cell_type": "code",
   "execution_count": null,
   "id": "61097d04",
   "metadata": {},
   "outputs": [],
   "source": [
    "images_2024_dir = r\"Z:\\__Organized_Directories_InProgress\\GobyFinderDatasets\\GoPro_datasets\\LMBS\\2024\\2024 GoPro Photos\" \n",
    "images_2024 = glob.glob(os.path.join(images_2024_dir,\"*\",\"*\",\"images\", \"*.JPG\"))\n",
    "box_labels_2024 = glob.glob(os.path.join(images_2024_dir,\"*\",\"*\",\"*\", \"*txt\"))\n",
    "assert len(images_2024) == len(box_labels_2024), \"Number of images and labels do not match.\"\n",
    "# create a DataFrame with image paths and box labels\n",
    "df = pd.DataFrame(images_2024, columns=[\"image_path\"])\n",
    "df[\"image_name\"] = df.image_path.apply(lambda x: os.path.basename(x).split(\".\")[0])\n",
    "dfb = pd.DataFrame(box_labels_2024, columns=[\"box_path\"])\n",
    "dfb[\"image_name\"] = dfb.box_path.apply(lambda x: os.path.basename(x).split(\".\")[0])\n",
    "df_new = pd.merge(df, dfb, how=\"left\", on=\"image_name\")\n",
    "df_new[\"folder\"] = df.image_path.apply(lambda x: os.path.basename(os.path.dirname(os.path.dirname(x))))\n",
    "df_new.head()\n"
   ]
  },
  {
   "cell_type": "code",
   "execution_count": null,
   "id": "20049538",
   "metadata": {},
   "outputs": [],
   "source": [
    "img_folder = r\"Z:\\__Organized_Directories_InProgress\\GobyFinderDatasets\\GoPro_datasets\\LMBS\\2024\\2024_all\\images\"\n",
    "lbl_folder = r\"Z:\\__Organized_Directories_InProgress\\GobyFinderDatasets\\GoPro_datasets\\LMBS\\2024\\2024_all\\cages\"\n",
    "# for image, label in zip(df_new.image_path, df_new.box_path):\n",
    "#     shutil.copy2(image, img_folder)\n",
    "#     shutil.copy2(label, lbl_folder)"
   ]
  }
 ],
 "metadata": {
  "kernelspec": {
   "display_name": "img_processing",
   "language": "python",
   "name": "python3"
  },
  "language_info": {
   "codemirror_mode": {
    "name": "ipython",
    "version": 3
   },
   "file_extension": ".py",
   "mimetype": "text/x-python",
   "name": "python",
   "nbconvert_exporter": "python",
   "pygments_lexer": "ipython3",
   "version": "3.11.4"
  }
 },
 "nbformat": 4,
 "nbformat_minor": 5
}
