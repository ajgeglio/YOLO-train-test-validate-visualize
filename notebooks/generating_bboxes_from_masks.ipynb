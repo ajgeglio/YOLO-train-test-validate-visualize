{
 "cells": [
  {
   "cell_type": "code",
   "execution_count": null,
   "metadata": {},
   "outputs": [],
   "source": [
    "import shutil\n",
    "import matplotlib.pyplot as plt\n",
    "from PIL import Image, ImageFilter, ImageOps, ImageDraw\n",
    "import PIL\n",
    "import glob\n",
    "import pandas as pd\n",
    "import numpy as np\n",
    "import os\n",
    "import random\n",
    "from src import generate_labels"
   ]
  },
  {
   "cell_type": "markdown",
   "metadata": {},
   "source": [
    "## Generating labels from masks or json files\n",
    "**YOLOv*** MUST have label data in a text (.txt) file with the same name as the img. Each label is in the following format, where x and y are the anchor (center) point of the object.\n",
    "* <object-class-id> \\<x> \\<y> \\<width> \\<height>\n",
    "\n",
    "<ins>Instructions for .png Mask Labels:<ins>\n",
    "\n",
    "When dealing with .png masks, the labels are some version of a mask the same dimensions as the original image. We use OpenCV to do this. I wrote a class called generate_data which is currently stored in generate_data.py. The function lbl_masks_to_img_lbls is used to do this."
   ]
  },
  {
   "cell_type": "markdown",
   "metadata": {},
   "source": [
    "### LABEL GEN - JSON files with bounding boxes"
   ]
  },
  {
   "cell_type": "code",
   "execution_count": null,
   "metadata": {},
   "outputs": [],
   "source": [
    "## for images with corresponding json labels that have bounding boxes (top left (x,y) w,h)\n",
    "\n",
    "## some 2019- and all 2020 json files contain only masks others have json bboxes. Some are coc json\n",
    "img_pths2019 = glob.glob(r\"Z:\\__Organized_Directories_InProgress\\Annotated_Images\\fish\\finalized_RGB\\2019*\\Original_Labeled_Images_RGB\\*.png\")\n",
    "json_lbls2019 = glob.glob(r\"Z:\\__Organized_Directories_InProgress\\Annotated_Images\\fish\\finalized_RGB\\2019*\\Labeled_JSON_Files\\*.json\")\n",
    "## finding the boolean idx of images with corresponding json files\n",
    "bn = lambda f: str(os.path.basename(f)).split(\".\")[0]\n",
    "img_pths2019_w_json_idx = pd.Series(img_pths2019).apply(bn).isin(pd.Series(json_lbls2019).apply(bn))\n",
    "img_pths2019j = list(pd.Series(img_pths2019)[img_pths2019_w_json_idx])\n",
    "assert len(img_pths2019j) == len(json_lbls2019)\n",
    "print(len(img_pths2019j))\n",
    "\n",
    "img_pths2020 = glob.glob(r\"Z:\\__Organized_Directories_InProgress\\Annotated_Images\\fish\\finalized_RGB\\2020*\\Original_Labeled_Images_RGB\\*.png\")\n",
    "json_lbls2020 = glob.glob(r\"Z:\\__Organized_Directories_InProgress\\Annotated_Images\\fish\\finalized_RGB\\2020*\\Labeled_JSON_Files\\*.json\")\n",
    "assert len(img_pths2020) == len(json_lbls2020)\n",
    "print(len(img_pths2020))\n",
    "\n",
    "## 2021 all have bboxes in the json files\n",
    "img_pths2021_huron = glob.glob(r\"Z:\\2021_MA\\LakeHuron\\_LABALED\\*\\Original_Labeled_Images_RGB\\*.png\")\n",
    "json_lbls2021_huron = glob.glob(r\"Z:\\2021_MA\\LakeHuron\\_LABALED\\*\\json_files\\*.json\")\n",
    "assert len(img_pths2021_huron) == len(json_lbls2021_huron)\n",
    "print(len(img_pths2021_huron))\n",
    "\n",
    "img_pths = img_pths2019j + img_pths2020 + img_pths2021_huron\n",
    "jsn_pths = json_lbls2019 + json_lbls2020 + json_lbls2021_huron\n",
    "'''\n",
    "598\n",
    "26497\n",
    "6239\n",
    "'''\n",
    "# generate_labels(img_pth_lst=img_pths, jsn_pth_lst=jsn_pths).json_to_img_lbls(save_path = 'datasets_2019-2021_all/labels_from_json')"
   ]
  },
  {
   "cell_type": "markdown",
   "metadata": {},
   "source": [
    "### LABEL GEN - .PNG MASKS"
   ]
  },
  {
   "cell_type": "code",
   "execution_count": null,
   "metadata": {},
   "outputs": [],
   "source": [
    "## Generating ratio labels from BINARY png masks\n",
    "\n",
    "## 2019 mask overlays\n",
    "## some 2019- and all 2020 json files contain only masks others have json bboxes. Some are coc json\n",
    "img_pths2019 = glob.glob(r\"Z:\\__Organized_Directories_InProgress\\Annotated_Images\\fish\\finalized_RGB\\2019*\\Original_Labeled_Images_RGB\\*.png\")\n",
    "msk_lbls2019 = glob.glob(r\"Z:\\__Organized_Directories_InProgress\\Annotated_Images\\fish\\finalized_RGB\\2019*\\Fish_Binary_Masks\\*.png\")\n",
    "# ## finding the boolean idx of images with corresponding json files\n",
    "# bn = lambda f: str(os.path.basename(f)).split(\".\")[0]\n",
    "# img_pths2019_w_msk_idx = pd.Series(img_pths2019).apply(bn).isin(pd.Series(json_lbls2019).apply(bn))\n",
    "# img_pths2019 = list(pd.Series(img_pths2019)[img_pths2019_w_msk_idx])\n",
    "assert len(img_pths2019) == len(msk_lbls2019)\n",
    "print(len(img_pths2019))\n",
    "\n",
    "img_pths2020 = glob.glob(r\"Z:\\__Organized_Directories_InProgress\\Annotated_Images\\fish\\finalized_RGB\\2020*\\Original_Labeled_Images_RGB\\*.png\")\n",
    "msk_lbls2020 = glob.glob(r\"Z:\\__Organized_Directories_InProgress\\Annotated_Images\\fish\\finalized_RGB\\2020*\\Fish_Binary_Masks\\*.png\")\n",
    "assert len(img_pths2020) == len(msk_lbls2020)\n",
    "print(len(img_pths2020))\n",
    "\n",
    "img_pths = img_pths2019 + img_pths2020 \n",
    "msk_pths = msk_lbls2019 + msk_lbls2020\n",
    "''' \n",
    "2147\n",
    "26497\n",
    "'''\n",
    "# generate_labels(img_pth_lst  = img_pths, \n",
    "#                 lbl_msk_pths = msk_pths).lbl_masks_to_img_lbls(save_path = 'tst_lbls', color=None)"
   ]
  },
  {
   "cell_type": "code",
   "execution_count": 2,
   "metadata": {},
   "outputs": [],
   "source": [
    "## move labels from json and labels from mask to the same folder but make sure the better of the two are kept\n",
    "# filepath_json = r\"D:\\ageglio-1\\gobyfinder_yolov8\\datasets_2019-2021_all\\labels_from_json\"\n",
    "# filepath_mask = r\"D:\\ageglio-1\\gobyfinder_yolov8\\datasets_2019-2021_all\\labels_from_masks\"\n",
    "# filepath_all = r\"D:\\ageglio-1\\gobyfinder_yolov8\\datasets_2019-2021_all\\labels\"\n",
    "\n",
    "\n",
    "# labels_in_json = os.listdir(r\"D:\\ageglio-1\\gobyfinder_yolov8\\datasets_2019-2021_all\\labels_from_json\")\n",
    "# labels_in_mask = os.listdir(r\"D:\\ageglio-1\\gobyfinder_yolov8\\datasets_2019-2021_all\\labels_from_masks\")\n",
    "\n",
    "def combine_labels(filepath_json, filepath_mask, filepath_all, labels_in_json, labels_in_mask):\n",
    "    labels_common = list(set(labels_in_mask).intersection(labels_in_json))\n",
    "    labels_mask_not_json = list(set(labels_in_mask).difference(labels_in_json))\n",
    "    labels_json_not_mask = list(set(labels_in_json).difference(labels_in_mask))\n",
    "\n",
    "    print(len(labels_mask_not_json))\n",
    "    for label in labels_mask_not_json:\n",
    "        file_mask = os.path.join(filepath_mask, label)\n",
    "        shutil.copy(file_mask, filepath_all)\n",
    "\n",
    "    print(len(labels_json_not_mask))\n",
    "    for label in labels_json_not_mask:\n",
    "        file_json = os.path.join(filepath_json, label)\n",
    "        shutil.copy(file_json, filepath_all)\n",
    "\n",
    "    print(len(labels_common))\n",
    "    for label in labels_common:\n",
    "        file_json = os.path.join(filepath_json, label)\n",
    "        file_mask = os.path.join(filepath_mask, label)\n",
    "        # Json labels overwrite the mask labels because they include individual boxes for overlapping fish\n",
    "        if os.path.getsize(file_json) >= os.path.getsize(file_mask):\n",
    "            shutil.copy(file_json, filepath_all)\n",
    "        else:\n",
    "            shutil.copy(file_mask, filepath_all)"
   ]
  },
  {
   "cell_type": "markdown",
   "metadata": {},
   "source": [
    "## label masks to contours"
   ]
  },
  {
   "cell_type": "code",
   "execution_count": null,
   "metadata": {},
   "outputs": [],
   "source": [
    "# i = 1\n",
    "# df = generate_labels(img_pth_lst  = img_pths, lbl_msk_pths = msk_pths).lbl_masks_to_contours(save_path = 'tst_lbls2')"
   ]
  }
 ],
 "metadata": {
  "kernelspec": {
   "display_name": "Yolov8",
   "language": "python",
   "name": "python3"
  },
  "language_info": {
   "codemirror_mode": {
    "name": "ipython",
    "version": 3
   },
   "file_extension": ".py",
   "mimetype": "text/x-python",
   "name": "python",
   "nbconvert_exporter": "python",
   "pygments_lexer": "ipython3",
   "version": "3.11.6"
  }
 },
 "nbformat": 4,
 "nbformat_minor": 2
}
