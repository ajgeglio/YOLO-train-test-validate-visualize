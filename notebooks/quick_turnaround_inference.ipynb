{
 "cells": [
  {
   "cell_type": "code",
   "execution_count": null,
   "metadata": {},
   "outputs": [],
   "source": [
    "import os\n",
    "import shutil\n",
    "import pandas as pd\n",
    "import numpy as np\n",
    "import sys\n",
    "sys.path.append(os.path.abspath(os.path.join(os.getcwd(), os.pardir, \"src\")))\n",
    "from utils import Utils"
   ]
  },
  {
   "cell_type": "code",
   "execution_count": null,
   "metadata": {},
   "outputs": [],
   "source": [
    "collects = [\"20240305_002_Iver3069_ABS2\",\n",
    "            \"20240306_001_Iver3069_ABS2\",\n",
    "            \"20240307_001_Iver3069_ABS2\",\n",
    "            \"20240307_002_Iver3069_ABS2\",\n",
    "            \"20240307_003_Iver3069_ABS2\",\n",
    "            \"20241112_001_Iver3069_ABS2\",\n",
    "            \"20241216_001_Iver3069_ABS2\",\n",
    "            \"20241218_001_Iver3069_ABS2\",\n",
    "            \"20241218_002_Iver3069_ABS2\"]\n",
    "\n",
    "# all_meta = pd.read_csv(r\"C:\\Users\\ageglio\\ageglio-1\\Indexing-AUV-data\\2019-2023-20250110\\header_2024_combined.csv\", index_col=0, low_memory=False)\n",
    "unpacked = pd.read_csv(r\"Z:\\Database\\02__MetadataCombined\\all_unpacked_images_metadata_2024.csv\", index_col=0, low_memory=False)\n",
    "qto_metadata = unpacked[unpacked.collect_id.isin(collects)]\n",
    "print(qto_metadata.shape)\n",
    "qto_metadata_u = qto_metadata[qto_metadata.Usability == \"Usable\"]\n",
    "qto_metadata_u.to_csv(r\"inference\\Mussel_control_quick_to\\mussel_control_metadata.csv\")\n",
    "mcm_lst = list(qto_metadata_u.image_path)\n",
    "filename = r\"inference\\Mussel_control_quick_to\\mussel_control_metadata_lst.csv\"\n",
    "assert len(mcm_lst) == len(qto_metadata_u) \n",
    "Utils.write_list_txt(filename, mcm_lst)\n",
    "len(mcm_lst)"
   ]
  },
  {
   "cell_type": "code",
   "execution_count": null,
   "metadata": {},
   "outputs": [],
   "source": [
    "qto_metadata_u.collect_id.value_counts()"
   ]
  },
  {
   "cell_type": "code",
   "execution_count": null,
   "metadata": {},
   "outputs": [],
   "source": [
    "GobyFinder_results = pd.read_csv(r\"Z:\\Proj_Yolo\\Mussel_Control_2024\\mussel_control_assmt_02122025.csv\")\n",
    "GobyFinder_results_p = GobyFinder_results[GobyFinder_results.conf_pass==1]\n",
    "GobyFinder_results_u = GobyFinder_results.drop_duplicates(subset=\"Filename\")\n",
    "GobyFinder_results_u = GobyFinder_results_u[GobyFinder_results_u.conf_pass==0]\n",
    "GobyFinder_results_up = pd.concat([GobyFinder_results_p, GobyFinder_results_u])\n",
    "GobyFinder_results_up = GobyFinder_results_up.sort_values(by=\"Filename\").reset_index(drop=True)\n",
    "GobyFinder_results_up"
   ]
  },
  {
   "cell_type": "code",
   "execution_count": null,
   "metadata": {},
   "outputs": [],
   "source": [
    "# List of file paths\n",
    "alden_results = [\n",
    "    r\"Z:\\Proj_SubstrateClassification\\AldenResults\\20240306_001_Iver3069_ABS2\\Substrate.csv\",\n",
    "    r\"Z:\\Proj_SubstrateClassification\\AldenResults\\20240306_001_Iver3069_ABS2_NeedsRedo\\Substrate.csv\",\n",
    "    r\"Z:\\Proj_SubstrateClassification\\AldenResults\\20240307_001_Iver3069_ABS2\\Substrate.csv\",\n",
    "    r\"Z:\\Proj_SubstrateClassification\\AldenResults\\20240307_002_Iver3069_ABS2\\Substrate.csv\",\n",
    "    r\"Z:\\Proj_SubstrateClassification\\AldenResults\\20240307_003_Iver3069_ABS2\\Substrate.csv\",\n",
    "    r\"Z:\\Proj_SubstrateClassification\\AldenResults\\20241112_001_Iver3069_ABS2\\Substrate.csv\",\n",
    "    r\"Z:\\Proj_SubstrateClassification\\AldenResults\\20241216_001_Iver3069_ABS2\\Substrate.csv\"\n",
    "]\n",
    "\n",
    "# Initialize an empty list to store dataframes\n",
    "dfs = []\n",
    "# Loop through the file paths and check if they exist\n",
    "for file_path in alden_results:\n",
    "    if os.path.exists(file_path):\n",
    "        df = pd.read_csv(file_path, usecols=[\"Filename\", \"2class_tight\", \"6class_tight\", \"9class_tight\"])\n",
    "        dfs.append(df)\n",
    "# Concatenate all dataframes\n",
    "alden_concatenated_df = pd.concat(dfs, ignore_index=True)\n",
    "\n",
    "# List of file paths for the PDFs\n",
    "dnn_substrate = [\n",
    "    r\"Z:\\Proj_Yolo\\Mussel_Control_2024\\mussel_control_6c_substrate_predictions.csv\",\n",
    "    r\"Z:\\Proj_Yolo\\Mussel_Control_2024\\mussel_control_2c_substrate_predictions.csv\"\n",
    "]\n",
    "\n",
    "# Read the PDFs into dataframes\n",
    "df_6c = pd.read_csv(dnn_substrate[0], index_col=0)[[\"Filename\", \"substrate_class_6c\"]]\n",
    "df_2c = pd.read_csv(dnn_substrate[1], index_col=0)[[\"Filename\", \"substrate_class_2c\"]]\n",
    "\n",
    "# Assert they are the same length\n",
    "assert len(df_6c) == len(df_2c), \"Dataframes are not the same length\"\n",
    "\n",
    "# Merge the dataframes on the \"Filename\" column\n",
    "merged_df = pd.merge(df_6c, df_2c, on=\"Filename\", suffixes=('_6c', '_2c'))\n",
    "merged_df = merged_df.rename(columns={\"substrate_class_6c\":\"substrate_dnn_6c\", \"substrate_class_2c\": \"substrate_dnn_6c\"})\n",
    "len(merged_df)\n",
    "\n",
    "mussel_Finder_results = pd.read_csv(r\"Z:\\Proj_Yolo\\Mussel_Control_2024\\mussel_control_mussel_finder_predictions.csv\")[[\"Filename\", \"Coverage\"]]"
   ]
  },
  {
   "cell_type": "code",
   "execution_count": null,
   "metadata": {},
   "outputs": [],
   "source": [
    "GobyFinder_results_substrate = pd.merge(GobyFinder_results_up, alden_concatenated_df.drop_duplicates(subset=\"Filename\"), on=\"Filename\", how=\"left\")\n",
    "GobyFinder_results_substrate = pd.merge(GobyFinder_results_substrate, merged_df, on=\"Filename\", how=\"left\")\n",
    "print(GobyFinder_results_substrate.shape)\n",
    "GobyFinder_results_substrate = GobyFinder_results_substrate.drop(columns=[\"substrate_class\"])\n",
    "GobyFinder_results_substrate_cover = pd.merge(GobyFinder_results_substrate, mussel_Finder_results, on=\"Filename\", how=\"left\")\n",
    "GobyFinder_results_substrate_cover.to_csv(r\"Z:\\Proj_Yolo\\Mussel_Control_2024\\GobyFinder_results_substrate_RF_DNN_Cover.csv\")"
   ]
  },
  {
   "cell_type": "code",
   "execution_count": null,
   "metadata": {},
   "outputs": [],
   "source": [
    "GobyFinder_results_substrate_cover[\"collect_id\"].value_counts()"
   ]
  },
  {
   "cell_type": "code",
   "execution_count": null,
   "metadata": {},
   "outputs": [],
   "source": [
    "GobyFinder_results_substrate_cover"
   ]
  }
 ],
 "metadata": {
  "kernelspec": {
   "display_name": "Yolov8v2",
   "language": "python",
   "name": "python3"
  },
  "language_info": {
   "codemirror_mode": {
    "name": "ipython",
    "version": 3
   },
   "file_extension": ".py",
   "mimetype": "text/x-python",
   "name": "python",
   "nbconvert_exporter": "python",
   "pygments_lexer": "ipython3",
   "version": "3.12.8"
  }
 },
 "nbformat": 4,
 "nbformat_minor": 2
}
