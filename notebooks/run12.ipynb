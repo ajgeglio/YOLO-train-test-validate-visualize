{
 "cells": [
  {
   "cell_type": "code",
   "execution_count": 3,
   "id": "c5f000dc",
   "metadata": {},
   "outputs": [],
   "source": [
    "import pandas as pd\n",
    "import matplotlib.pyplot as plt\n",
    "import os\n",
    "import glob\n",
    "import sys\n",
    "sys.path.append(os.path.join(os.path.dirname(os.getcwd()), \"src\"))\n",
    "from utils import Utils"
   ]
  },
  {
   "cell_type": "code",
   "execution_count": null,
   "id": "f786f1f0",
   "metadata": {},
   "outputs": [],
   "source": [
    "# #load run 12 splits\n",
    "# df_run12 = pd.read_csv(r\"Z:\\__Organized_Directories_InProgress\\GobyFinderDatasets\\AUV_datasets\\Runs\\run12\\run12.csv\", index_col=0)\n",
    "# print(\"abs1inal split\", df_run12.split.value_counts())\n",
    "# metadata = pd.read_csv(\n",
    "#     r\"Z:\\__AdvancedTechnologyBackup\\01_DerivedProducts\\Database\\02__MetadataCombined\\all_unpacked_images_metadata_annotated.csv\",\n",
    "#     low_memory=False, index_col=0\n",
    "# )\n",
    "# metadata = metadata.rename(columns={\"image_path\": \"abs1inal_image_path\", \"label_path\": \"abs1inal_label_path\"})\n",
    "# df_run12_meta = pd.merge(df_run12, metadata, on=\"Filename\", how=\"left\")\n",
    "# print(df_run12_meta.shape)\n",
    "\n",
    "# # Load master label dataframe and merge n_fish column\n",
    "# master_lbl_df = pd.read_csv(\n",
    "#     r\"Z:\\__Organized_Directories_InProgress\\GobyFinderDatasets\\AUV_datasets\\All_Goby_imgs_lbls_pths.csv\"\n",
    "# )\n",
    "\n",
    "# df_run12_meta_nf = pd.merge(\n",
    "#     df_run12_meta, master_lbl_df[[\"Filename\", \"n_fish\"]], on=\"Filename\", how=\"left\"\n",
    "# )\n",
    "# df_run12_meta_nf.to_csv(r\"Z:\\__Organized_Directories_InProgress\\GobyFinderDatasets\\AUV_datasets\\Runs\\run12\\run12_metadata.csv\")"
   ]
  },
  {
   "cell_type": "code",
   "execution_count": 9,
   "id": "03f02569",
   "metadata": {},
   "outputs": [],
   "source": [
    "train12 = Utils.read_list_txt(r\"..\\datasets\\AUV_datasets\\run12\\full\\train\\images.txt\")\n",
    "test12 = Utils.read_list_txt(r\"..\\datasets\\AUV_datasets\\run12\\full\\test\\images.txt\")\n",
    "validation12 = Utils.read_list_txt(r\"..\\datasets\\AUV_datasets\\run12\\full\\validation\\images.txt\")"
   ]
  },
  {
   "cell_type": "code",
   "execution_count": 11,
   "id": "ee49d649",
   "metadata": {},
   "outputs": [
    {
     "name": "stdout",
     "output_type": "stream",
     "text": [
      "463683 463683\n"
     ]
    }
   ],
   "source": [
    "all_tiled_image_paths, all_tiled_label_paths = glob.glob(r\"D:\\datasets\\tiled\\images\\*.png\"), glob.glob(r\"D:\\datasets\\tiled\\labels\\*.txt\")\n",
    "print(len(all_tiled_image_paths), len(all_tiled_label_paths))\n",
    "assert len(all_tiled_image_paths) == len(all_tiled_label_paths), \"Mismatch between image and label counts.\""
   ]
  },
  {
   "cell_type": "code",
   "execution_count": null,
   "id": "e65a228c",
   "metadata": {},
   "outputs": [
    {
     "name": "stdout",
     "output_type": "stream",
     "text": [
      "Number of tiled images for train: 223731\n"
     ]
    }
   ],
   "source": [
    "# Tiled set image lists\n",
    "\n",
    "split = \"train\"  # Change this to 'train', 'test', or 'transects' as needed\n",
    "dataset_folder = \"D:\\\\ageglio-1\\\\gobyfinder_yolov8\\\\datasets\\\\AUV_datasets\\\\run12\\\\tiled\"\n",
    "\n",
    "imgs = Utils.read_list_txt(f\"..\\\\datasets\\\\AUV_datasets\\\\run12\\\\full\\\\{split}\\\\images.txt\")\n",
    "imgs = [os.path.basename(img).split(\".\")[0] for img in imgs]  # Ensure only filenames are used\n",
    "tiled_images, tiled_labels  = Utils.list_tiled_set(imgs, all_tiled_image_paths, all_tiled_label_paths)\n",
    "assert len(tiled_images) == len(tiled_labels), \"Mismatch between number of images and labels\"\n",
    "print(f\"Number of tiled images for {split}: {len(tiled_images)}\")\n",
    "# Number of tiled images for train: 222732 223731\n",
    "# Number of tiled images for test: 28908 28533\n",
    "# Number of tiled images for validation: 26217 27888\n",
    "Utils.write_list_txt(tiled_images, f\"{dataset_folder}\\\\{split}\\\\images.txt\")\n",
    "Utils.write_list_txt(tiled_labels, f\"{dataset_folder}\\\\{split}\\\\labels.txt\")"
   ]
  }
 ],
 "metadata": {
  "kernelspec": {
   "display_name": "Yolov8v2",
   "language": "python",
   "name": "python3"
  },
  "language_info": {
   "codemirror_mode": {
    "name": "ipython",
    "version": 3
   },
   "file_extension": ".py",
   "mimetype": "text/x-python",
   "name": "python",
   "nbconvert_exporter": "python",
   "pygments_lexer": "ipython3",
   "version": "3.12.8"
  }
 },
 "nbformat": 4,
 "nbformat_minor": 5
}
